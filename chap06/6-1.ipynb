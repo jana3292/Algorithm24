{
 "cells": [
  {
   "cell_type": "code",
   "execution_count": 1,
   "metadata": {},
   "outputs": [
    {
     "name": "stdout",
     "output_type": "stream",
     "text": [
      "step 1 [10, 992, 82, 432, 123, 234, 345, 56, 636, 76, 567, 119]\n",
      "step 2 [10, 119, 123, 432, 234, 636, 345, 56, 567, 76, 82, 992]\n",
      "step 3 [10, 56, 76, 82, 119, 123, 234, 345, 432, 567, 636, 992]\n",
      "step 4 [10, 56, 76, 82, 119, 123, 234, 345, 432, 567, 636, 992]\n",
      "Radix:  [10, 56, 76, 82, 119, 123, 234, 345, 432, 567, 636, 992]\n"
     ]
    }
   ],
   "source": [
    "from queue import Queue \n",
    "def radix_sort(A) : \n",
    "    queues = [] \n",
    "    for i in range(BUCKETS) : \n",
    "        queues.append(Queue()) \n",
    "    n = len(A)\n",
    "    factor = 1         \n",
    "    for d in range (DIGITS) :   \n",
    "        for i in range(n):       \n",
    "            queues[(A[i]//factor) % BUCKETS].put(A[i]) \n",
    "        j=0\n",
    "        for b in range(BUCKETS) :   \n",
    "            while not queues[b].empty():  \n",
    "                A[j] = queues[b].get()    \n",
    "                j+=1\n",
    "        factor *= BUCKETS  \n",
    "        print(\"step\", d+1, A)   \n",
    "        \n",
    "BUCKETS = 10 \n",
    "DIGITS = 4 \n",
    "data = [10,123,56,636,992,119,234,76,82,345,567,432] \n",
    "radix_sort(data) \n",
    "print(\"Radix: \", data) "
   ]
  }
 ],
 "metadata": {
  "kernelspec": {
   "display_name": "Python 3",
   "language": "python",
   "name": "python3"
  },
  "language_info": {
   "codemirror_mode": {
    "name": "ipython",
    "version": 3
   },
   "file_extension": ".py",
   "mimetype": "text/x-python",
   "name": "python",
   "nbconvert_exporter": "python",
   "pygments_lexer": "ipython3",
   "version": "3.12.0"
  }
 },
 "nbformat": 4,
 "nbformat_minor": 2
}
