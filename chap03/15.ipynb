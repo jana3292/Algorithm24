{
 "cells": [
  {
   "cell_type": "code",
   "execution_count": 1,
   "metadata": {},
   "outputs": [
    {
     "name": "stdout",
     "output_type": "stream",
     "text": [
      "헤밀토니안 사이클:  [0, 1, 2, 4, 3, 0]\n",
      "헤밀토니언 사이클 없음\n",
      "헤밀토니안 사이클:  [0, 1, 2, 4, 3, 0]\n"
     ]
    },
    {
     "data": {
      "text/plain": [
       "True"
      ]
     },
     "execution_count": 1,
     "metadata": {},
     "output_type": "execute_result"
    }
   ],
   "source": [
    "def is_safe(g, v, pos, path):\n",
    "    if g[ path[pos-1] ][v] == 0:\n",
    "        return False\n",
    "    for vertex in path:\n",
    "        if vertex == v:\n",
    "            return False\n",
    "    return True\n",
    "\n",
    "def hamiltonian_recur(g, path, pos):\n",
    "    n = len(g)\n",
    "    if pos == n:\n",
    "        if g[path[pos-1]][path[0]] == 1:\n",
    "            return True\n",
    "        else: return False\n",
    "\n",
    "    for v in range(1, n):\n",
    "        if is_safe(g, v, pos, path) == True:\n",
    "            path[pos] = v\n",
    "            if hamiltonian_recur(g, path, pos+1) == True:\n",
    "                return True\n",
    "            path[pos] = -1\n",
    "    return False\n",
    "\n",
    "def hamiltonian_cycle(g):\n",
    "    n = len(g)\n",
    "    path = [-1] * (n+1)\n",
    "    path[0] = path[n] = 0\n",
    "\n",
    "    if hamiltonian_recur(g, path, 1) == False:\n",
    "        print (\"헤밀토니언 사이클 없음\")\n",
    "        return False\n",
    "    else :\n",
    "        print (\"헤밀토니안 사이클: \", path)\n",
    "    return True\n",
    "\n",
    "g1 = [  [0, 1, 0, 1, 0],\n",
    "        [1, 0, 1, 1, 1],\n",
    "        [0, 1, 0, 0, 1],\n",
    "        [1, 1, 0, 0, 1],\n",
    "        [0, 1, 1, 1, 0],  ] \n",
    "\n",
    "g2 = [  [0, 1, 0, 1, 0],\n",
    "        [1, 0, 1, 1, 1],\n",
    "        [0, 1, 0, 0, 1],\n",
    "        [1, 1, 0, 0, 0],\n",
    "        [0, 1, 1, 0, 0],  ]    \n",
    "\n",
    "g3 = [  [0, 1, 0, 1, 0],\n",
    "        [1, 0, 1, 1, 1],\n",
    "        [0, 1, 0, 0, 1],\n",
    "        [1, 1, 0, 0, 1],\n",
    "        [0, 1, 1, 1, 0],  ] \n",
    "\n",
    "hamiltonian_cycle(g1)\n",
    "hamiltonian_cycle(g2)\n",
    "hamiltonian_cycle(g3)\n",
    "\n"
   ]
  }
 ],
 "metadata": {
  "kernelspec": {
   "display_name": "Python 3",
   "language": "python",
   "name": "python3"
  },
  "language_info": {
   "codemirror_mode": {
    "name": "ipython",
    "version": 3
   },
   "file_extension": ".py",
   "mimetype": "text/x-python",
   "name": "python",
   "nbconvert_exporter": "python",
   "pygments_lexer": "ipython3",
   "version": "3.11.9"
  }
 },
 "nbformat": 4,
 "nbformat_minor": 2
}
