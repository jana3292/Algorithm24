{
 "cells": [
  {
   "cell_type": "markdown",
   "metadata": {},
   "source": [
    "#### 1) 문제 정의 : 3.1 선택 정렬\n"
   ]
  },
  {
   "cell_type": "markdown",
   "metadata": {},
   "source": [
    "#### 2) 알고리즘 설명 \n",
    "이 선택 정렬 알고리즘은 제자리 정렬로 개선된 선택 정렬 알고리즘이다. 어떤 정렬 알고리즘이 입력 리스트 이외에 추가적인 메모리를 사용하지 않는 제자리 정렬을 이용하였다."
   ]
  },
  {
   "cell_type": "markdown",
   "metadata": {},
   "source": [
    "#### 3) 손으로 푼 예제 \n",
    "![3.png](https://github.com/jana3292/Algorithm24/blob/main/png/3.png?raw=true)"
   ]
  },
  {
   "cell_type": "markdown",
   "metadata": {},
   "source": [
    "#### 4) 알고리즘 개요(입력 변수, 출력, 알고리즘 개요)\n",
    "입력 변수 :  [5, 3, 8, 4, 9, 1, 6, 2, 7]  \n",
    "출력 변수 :  [1, 2, 3, 4, 5, 6, 7, 8, 9]  \n",
    "알고리즘 개요 : 선택 정렬"
   ]
  },
  {
   "cell_type": "markdown",
   "metadata": {},
   "source": [
    "####   5) 알고리즘 코드\n"
   ]
  },
  {
   "cell_type": "code",
   "execution_count": 3,
   "metadata": {},
   "outputs": [],
   "source": [
    "def selection_sort(A) :\n",
    "    n = len(A)\n",
    "    for i in range(n-1) :\n",
    "        least = i\n",
    "        for j in range(i+1, n) :\n",
    "            if (A[j]<A[least]) :\n",
    "                least = j\n",
    "        A[i], A[least] = A[least], A[i]\n",
    "        printStep(A, i + 1)"
   ]
  },
  {
   "cell_type": "markdown",
   "metadata": {},
   "source": [
    "####  6) 테스트 코드 "
   ]
  },
  {
   "cell_type": "code",
   "execution_count": 6,
   "metadata": {},
   "outputs": [
    {
     "name": "stdout",
     "output_type": "stream",
     "text": [
      "Original :  [5, 3, 8, 4, 9, 1, 6, 2, 7]\n",
      " Step  1 = [1, 3, 8, 4, 9, 5, 6, 2, 7]\n",
      " Step  2 = [1, 2, 8, 4, 9, 5, 6, 3, 7]\n",
      " Step  3 = [1, 2, 3, 4, 9, 5, 6, 8, 7]\n",
      " Step  4 = [1, 2, 3, 4, 9, 5, 6, 8, 7]\n",
      " Step  5 = [1, 2, 3, 4, 5, 9, 6, 8, 7]\n",
      " Step  6 = [1, 2, 3, 4, 5, 6, 9, 8, 7]\n",
      " Step  7 = [1, 2, 3, 4, 5, 6, 7, 8, 9]\n",
      " Step  8 = [1, 2, 3, 4, 5, 6, 7, 8, 9]\n",
      "Selection :  [1, 2, 3, 4, 5, 6, 7, 8, 9]\n"
     ]
    }
   ],
   "source": [
    "def selection_sort(A) :\n",
    "    n = len(A)\n",
    "    for i in range(n-1) :\n",
    "        least = i\n",
    "        for j in range(i+1, n) :\n",
    "            if (A[j]<A[least]) :\n",
    "                least = j\n",
    "        A[i], A[least] = A[least], A[i]\n",
    "        printStep(A, i + 1)\n",
    "\n",
    "def printStep(arr, val) :\n",
    "    print(\" Step %2d = \" % val, end='')\n",
    "    print(arr)\n",
    "\n",
    "data = [ 5, 3, 8, 4, 9, 1, 6, 2, 7 ]\n",
    "print(\"Original : \", data)\n",
    "selection_sort(data)\n",
    "print(\"Selection : \", data)"
   ]
  },
  {
   "cell_type": "markdown",
   "metadata": {},
   "source": [
    "####   7) 수행 결과\n",
    "![7.png](https://github.com/jana3292/Algorithm24/blob/main/png/7.png?raw=true)"
   ]
  },
  {
   "cell_type": "markdown",
   "metadata": {},
   "source": [
    "####  8) 복잡도 분석\n",
    "선택 정렬 시간 복잡도는 O(n2)이다 다른 정렬 알고리즘에 비해 효율적이지도 않고,안전성을 만족하지도 않지만, 알고리즘이 간단하고,입력 자료의 구성과 상관없이 자료 이동 횟수가 결정된다는 장접이 있다.또한 입력의 크기가 크지 않은 실제 문제에 충분히 사용할 수 있으며, 무엇보다 정렬의 정의를 가장 직접적으로 사용한 알고리즘이다. "
   ]
  },
  {
   "cell_type": "markdown",
   "metadata": {},
   "source": [
    "####  9) 작성자 & 조별 협력 내용\n",
    "![9.png](https://github.com/jana3292/Algorithm24/blob/main/png/9.png?raw=true)"
   ]
  }
 ],
 "metadata": {
  "kernelspec": {
   "display_name": "Python 3",
   "language": "python",
   "name": "python3"
  },
  "language_info": {
   "codemirror_mode": {
    "name": "ipython",
    "version": 3
   },
   "file_extension": ".py",
   "mimetype": "text/x-python",
   "name": "python",
   "nbconvert_exporter": "python",
   "pygments_lexer": "ipython3",
   "version": "3.11.9"
  }
 },
 "nbformat": 4,
 "nbformat_minor": 2
}
