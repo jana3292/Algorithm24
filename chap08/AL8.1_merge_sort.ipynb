{
 "cells": [
  {
   "cell_type": "markdown",
   "metadata": {},
   "source": [
    "#### 1) 문제 정의 : 8.1 거스름돈 최소화 알고리즘(탐욕적 기법)\n"
   ]
  },
  {
   "cell_type": "markdown",
   "metadata": {},
   "source": [
    "#### 2) 알고리즘 설명\n",
    "액면가가 가장 큰 동전을 사용한다. 남은 잔돈을 가장 작게 만들어 전체 동전의 수를 최소화시킬 가능성이 가장 크기 때문이다. 그리고 사용한 동전이 잔돈을 초과하지 않아야 한다."
   ]
  },
  {
   "cell_type": "markdown",
   "metadata": {},
   "source": [
    "#### 3) 손으로 푼 예제 \n",
    "![5.2-3](https://github.com/jana3292/Algorithm24/blob/main/png/%EC%8A%A4%ED%81%AC%EB%A6%B0%EC%83%B7%202024-06-12%20115618.png?raw=true)"
   ]
  },
  {
   "cell_type": "markdown",
   "metadata": {},
   "source": [
    "#### 4) 코드 개요(입력 변수, 출력, 함수 설명)\n",
    "입력 변수 :  coins = [500, 100, 50, 10, 5, 1]\n",
    "V = 580       \n",
    "출력 변수 :  잔돈 액수 =  580\n",
    "동전 종류 = [500, 100, 50, 10, 5, 1]\n",
    "동전 개수 =  [1, 0, 1, 3, 0, 0]        \n",
    "함수 설명 : 거스름돈 동전 개수를 알아내는 함수"
   ]
  },
  {
   "cell_type": "markdown",
   "metadata": {},
   "source": [
    "####   5) 코드\n"
   ]
  },
  {
   "cell_type": "code",
   "execution_count": 1,
   "metadata": {},
   "outputs": [],
   "source": [
    "def min_coins_greedy( coins, V ):\n",
    "    count = []\n",
    "    for i in range(len(coins)) :\n",
    "        cnt = V //coins[i]\n",
    "        count.append(cnt)\n",
    "        V -= cnt * coins[i]\n",
    "    return count"
   ]
  },
  {
   "cell_type": "markdown",
   "metadata": {},
   "source": [
    "####  6) 테스트 코드 "
   ]
  },
  {
   "cell_type": "code",
   "execution_count": 2,
   "metadata": {},
   "outputs": [
    {
     "name": "stdout",
     "output_type": "stream",
     "text": [
      "잔돈 액수 =  580\n",
      "동전 종류 = [500, 100, 50, 10, 5, 1]\n",
      "동전 개수 =  [1, 0, 1, 3, 0, 0]\n"
     ]
    }
   ],
   "source": [
    "def min_coins_greedy( coins, v ):\n",
    "    count = []\n",
    "    for i in range(len(coins)) :\n",
    "        cnt = v //coins[i]\n",
    "        count.append(cnt)\n",
    "        v -= cnt * coins[i]\n",
    "    return count\n",
    "\n",
    "coins = [500, 100, 50, 10, 5, 1]\n",
    "V = 580\n",
    "print(\"잔돈 액수 = \", V)\n",
    "print(\"동전 종류 =\", coins)\n",
    "print(\"동전 개수 = \",min_coins_greedy(coins, V))"
   ]
  },
  {
   "cell_type": "markdown",
   "metadata": {},
   "source": [
    "####   7) 수행 결과\n",
    "![5.1-7](https://github.com/jana3292/Algorithm24/blob/main/png/%EC%8A%A4%ED%81%AC%EB%A6%B0%EC%83%B7%202024-06-12%20115644.png?raw=true)"
   ]
  },
  {
   "cell_type": "markdown",
   "metadata": {},
   "source": [
    "####  8) 복잡도 분석\n",
    "액면가가 m가지라면 O(m)이다. 동적 계획법은 O(mV)이다."
   ]
  }
 ],
 "metadata": {
  "kernelspec": {
   "display_name": "Python 3",
   "language": "python",
   "name": "python3"
  },
  "language_info": {
   "codemirror_mode": {
    "name": "ipython",
    "version": 3
   },
   "file_extension": ".py",
   "mimetype": "text/x-python",
   "name": "python",
   "nbconvert_exporter": "python",
   "pygments_lexer": "ipython3",
   "version": "3.11.9"
  }
 },
 "nbformat": 4,
 "nbformat_minor": 2
}
