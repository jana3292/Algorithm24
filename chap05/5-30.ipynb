{
 "cells": [
  {
   "cell_type": "code",
   "execution_count": 3,
   "metadata": {},
   "outputs": [
    {
     "name": "stdout",
     "output_type": "stream",
     "text": [
      "최대 피보나치 수: 1836311903\n"
     ]
    }
   ],
   "source": [
    "def find_max_fibonacci_in_int():\n",
    "    max_int = 2**31 - 1\n",
    "    a, b = 0, 1\n",
    "    \n",
    "    while True:\n",
    "        next_fib = a + b\n",
    "        if next_fib > max_int:\n",
    "            return b\n",
    "        a, b = b, next_fib\n",
    "\n",
    "max_fibonacci = find_max_fibonacci_in_int()\n",
    "print(\"최대 피보나치 수:\", max_fibonacci)"
   ]
  }
 ],
 "metadata": {
  "kernelspec": {
   "display_name": "Python 3",
   "language": "python",
   "name": "python3"
  },
  "language_info": {
   "codemirror_mode": {
    "name": "ipython",
    "version": 3
   },
   "file_extension": ".py",
   "mimetype": "text/x-python",
   "name": "python",
   "nbconvert_exporter": "python",
   "pygments_lexer": "ipython3",
   "version": "3.11.9"
  }
 },
 "nbformat": 4,
 "nbformat_minor": 2
}
