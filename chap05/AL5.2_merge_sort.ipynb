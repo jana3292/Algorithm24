{
 "cells": [
  {
   "cell_type": "markdown",
   "metadata": {},
   "source": [
    "#### 1) 문제 정의 : 5.2 병합 알고리즘(정렬된 두 리스트의 병합)\n"
   ]
  },
  {
   "cell_type": "markdown",
   "metadata": {},
   "source": [
    "#### 2) 알고리즘 설명\n",
    "정렬된 부분 리스트를 병합하는 알고리즘이다.\n"
   ]
  },
  {
   "cell_type": "markdown",
   "metadata": {},
   "source": [
    "#### 3) 손으로 푼 예제 \n"
   ]
  },
  {
   "cell_type": "markdown",
   "metadata": {},
   "source": [
    "#### 4) 코드 개요(입력 변수, 출력, 함수 설명)\n",
    "입력 변수 : [ 5, 3, 8, 4, 9, 1, 6, 2, 7]  \n",
    "출력 변수 :  Original : [5, 3, 8, 4, 9, 1, 6, 2, 7] ,\n",
    "            MergeSort : [1, 2, 3, 4, 5, 6, 7, 8, 9]  \n",
    "함수 설명 : 정렬된 두 개의 부분 리스트를 병합한다.   "
   ]
  },
  {
   "cell_type": "markdown",
   "metadata": {},
   "source": [
    "####   5) 코드\n"
   ]
  },
  {
   "cell_type": "code",
   "execution_count": 1,
   "metadata": {},
   "outputs": [],
   "source": [
    "def merge_sort(A, left, right):\n",
    "    if left<right:\n",
    "        mid = (left + right // 2)\n",
    "        merge_sort(A, left, mid)\n",
    "        merge_sort(A, mid + 1, right)\n",
    "        merge(A, left, mid, right)\n",
    "\n",
    "def merge(A, left, mid, right):\n",
    "    k = left\n",
    "    i = left\n",
    "    j = mid + 1\n",
    "    while i<=mid and j<=right :\n",
    "        if A[i] <= A[j]:\n",
    "            sorted[k] = A[i]\n",
    "            i, k = i+1, k+1\n",
    "        else:\n",
    "            sorted[k] = A[j]\n",
    "            j, k = j+1, k+1\n",
    "\n",
    "    if i > mid:\n",
    "        sorted[k:k+right-j+1] = A[j:right+1]\n",
    "    else:\n",
    "        sorted[k:k+mid-i+1] = A[i:mid+1]\n",
    "\n",
    "    A[left:right+1] = sorted[left:right+1]"
   ]
  },
  {
   "cell_type": "markdown",
   "metadata": {},
   "source": [
    "####  6) 테스트 코드 "
   ]
  },
  {
   "cell_type": "code",
   "execution_count": 2,
   "metadata": {},
   "outputs": [
    {
     "name": "stdout",
     "output_type": "stream",
     "text": [
      "Original : [5, 3, 8, 4, 9, 1, 6, 2, 7]\n",
      "MergeSort :  [1, 2, 3, 4, 5, 6, 7, 8, 9]\n"
     ]
    }
   ],
   "source": [
    "def merge_sort(A, left, right):\n",
    "    if left<right:\n",
    "        mid = (left + right) // 2\n",
    "        merge_sort(A, left, mid)\n",
    "        merge_sort(A, mid + 1, right)\n",
    "        merge(A, left, mid, right)\n",
    "\n",
    "def merge(A, left, mid, right):\n",
    "    k = left \n",
    "    i = left \n",
    "    j = mid + 1\n",
    "    while i<=mid and j<=right :\n",
    "        if A[i] <= A[j]:\n",
    "            sorted[k] = A[i]\n",
    "            i, k = i+1, k+1\n",
    "        else:\n",
    "            sorted[k] = A[j]\n",
    "            j, k = j+1, k+1\n",
    "\n",
    "    if i > mid:\n",
    "        sorted[k:k+right-j+1] = A[j:right+1]\n",
    "    else:\n",
    "        sorted[k:k+mid-i+1] = A[i:mid+1]\n",
    "\n",
    "    A[left:right+1] = sorted[left:right+1]\n",
    "    \n",
    "data = [ 5, 3, 8, 4, 9, 1, 6, 2, 7 ]\n",
    "sorted = [0] * len(data)\n",
    "print(\"Original :\", data)\n",
    "merge_sort(data, 0, len(data)-1)\n",
    "print(\"MergeSort : \", data)"
   ]
  },
  {
   "cell_type": "markdown",
   "metadata": {},
   "source": [
    "####   7) 수행 결과\n",
    "![5.1-7](https://github.com/jana3292/Algorithm24/blob/main/png/5.1-7.png?raw=true)"
   ]
  },
  {
   "cell_type": "markdown",
   "metadata": {},
   "source": [
    "####  8) 복잡도 분석\n",
    "병합 정렬은 입력 데이터의 구성에 상관없이 동일한 시간에 정렬이 완료된다. 따라서 최악,평균,최선의 경우를 나누어 생각할 필요가 없다.k = log2n 이다."
   ]
  }
 ],
 "metadata": {
  "kernelspec": {
   "display_name": "Python 3",
   "language": "python",
   "name": "python3"
  },
  "language_info": {
   "codemirror_mode": {
    "name": "ipython",
    "version": 3
   },
   "file_extension": ".py",
   "mimetype": "text/x-python",
   "name": "python",
   "nbconvert_exporter": "python",
   "pygments_lexer": "ipython3",
   "version": "3.12.2"
  }
 },
 "nbformat": 4,
 "nbformat_minor": 2
}
