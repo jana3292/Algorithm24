{
 "cells": [
  {
   "cell_type": "code",
   "execution_count": 2,
   "metadata": {},
   "outputs": [
    {
     "name": "stdout",
     "output_type": "stream",
     "text": [
      "Original :  [7, 4, 9, 6, 3, 8, 7, 5]\n",
      " Step  1 = [3, 4, 9, 6, 7, 8, 7, 5]\n",
      " Step  2 = [3, 4, 9, 6, 7, 8, 7, 5]\n",
      " Step  3 = [3, 4, 5, 6, 7, 8, 7, 9]\n",
      " Step  4 = [3, 4, 5, 6, 7, 8, 7, 9]\n",
      " Step  5 = [3, 4, 5, 6, 7, 8, 7, 9]\n",
      " Step  6 = [3, 4, 5, 6, 7, 7, 8, 9]\n",
      " Step  7 = [3, 4, 5, 6, 7, 7, 8, 9]\n",
      "Selection :  [3, 4, 5, 6, 7, 7, 8, 9]\n"
     ]
    }
   ],
   "source": [
    "def selection_sort(A) :\n",
    "    n = len(A)\n",
    "    for i in range(n-1) :\n",
    "        least = i\n",
    "        for j in range(i+1, n) :\n",
    "            if (A[j]<A[least]) :\n",
    "                least = j\n",
    "        A[i], A[least] = A[least], A[i]\n",
    "        printStep(A, i + 1)\n",
    "\n",
    "def printStep(arr, val) :\n",
    "    print(\" Step %2d = \" % val, end='')\n",
    "    print(arr)\n",
    "\n",
    "data = [ 7, 4, 9, 6, 3, 8, 7, 5, ]\n",
    "print(\"Original : \", data)\n",
    "selection_sort(data)\n",
    "print(\"Selection : \", data)"
   ]
  }
 ],
 "metadata": {
  "kernelspec": {
   "display_name": "Python 3",
   "language": "python",
   "name": "python3"
  },
  "language_info": {
   "codemirror_mode": {
    "name": "ipython",
    "version": 3
   },
   "file_extension": ".py",
   "mimetype": "text/x-python",
   "name": "python",
   "nbconvert_exporter": "python",
   "pygments_lexer": "ipython3",
   "version": "3.11.9"
  }
 },
 "nbformat": 4,
 "nbformat_minor": 2
}
