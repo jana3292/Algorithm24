{
 "cells": [
  {
   "cell_type": "markdown",
   "metadata": {},
   "source": [
    "#### 1) 문제 정의 : 5.1 병합 정렬\n"
   ]
  },
  {
   "cell_type": "markdown",
   "metadata": {},
   "source": [
    "#### 2) 알고리즘 설명\n",
    "하나의 리스트를 같은 크기의 두 개의 부분 리스트로 분할하고, 분할된 부분 리스트를 정렬한 다음, 정렬된 리스트를 병합하는 전략을 사용한다.\n"
   ]
  },
  {
   "cell_type": "markdown",
   "metadata": {},
   "source": [
    "#### 3) 손으로 푼 예제 \n"
   ]
  },
  {
   "cell_type": "markdown",
   "metadata": {},
   "source": [
    "#### 4) 코드 개요(입력 변수, 출력, 함수 설명)\n",
    "입력 변수 :  \n",
    "출력 변수 :   \n",
    "함수 설명 : 선택 정렬"
   ]
  },
  {
   "cell_type": "markdown",
   "metadata": {},
   "source": [
    "####   5) 코드\n"
   ]
  },
  {
   "cell_type": "code",
   "execution_count": 1,
   "metadata": {},
   "outputs": [],
   "source": [
    "def merge_sort(A, left, right):\n",
    "    if left<right:\n",
    "        mid = (left + right // 2)\n",
    "        merge_sort(A, left, mid)\n",
    "        merge_sort(A, mid + 1, right)\n",
    "        merge(A, left, mid, right)\n",
    "\n",
    "def merge(A, left, mid, right):\n",
    "    k = left\n",
    "    i = left\n",
    "    j = mid + 1\n",
    "    while i<=mid and j<=right :\n",
    "        if A[i] <= A[j]:\n",
    "            sorted[k] = A[i]\n",
    "            i, k = i+1, k+1\n",
    "        else:\n",
    "            sorted[k] = A[j]\n",
    "            j, k = j+1, k+1\n",
    "\n",
    "    if i > mid:\n",
    "        sorted[k:k+right-j+1] = A[j:right+1]\n",
    "    else:\n",
    "        sorted[k:k+mid-i+1] = A[i:mid+1]\n",
    "\n",
    "    A[left:right+1] = sorted[left:right+1]"
   ]
  },
  {
   "cell_type": "markdown",
   "metadata": {},
   "source": [
    "####  6) 테스트 코드 "
   ]
  },
  {
   "cell_type": "code",
   "execution_count": 6,
   "metadata": {},
   "outputs": [
    {
     "name": "stdout",
     "output_type": "stream",
     "text": [
      "Original : [5, 3, 8, 4, 9, 1, 6, 2, 7]\n"
     ]
    },
    {
     "ename": "RecursionError",
     "evalue": "maximum recursion depth exceeded",
     "output_type": "error",
     "traceback": [
      "\u001b[1;31m---------------------------------------------------------------------------\u001b[0m",
      "\u001b[1;31mRecursionError\u001b[0m                            Traceback (most recent call last)",
      "Cell \u001b[1;32mIn[6], line 30\u001b[0m\n\u001b[0;32m     28\u001b[0m \u001b[38;5;28msorted\u001b[39m \u001b[38;5;241m=\u001b[39m [\u001b[38;5;241m0\u001b[39m] \u001b[38;5;241m*\u001b[39m \u001b[38;5;28mlen\u001b[39m(data)\n\u001b[0;32m     29\u001b[0m \u001b[38;5;28mprint\u001b[39m(\u001b[38;5;124m\"\u001b[39m\u001b[38;5;124mOriginal :\u001b[39m\u001b[38;5;124m\"\u001b[39m, data)\n\u001b[1;32m---> 30\u001b[0m \u001b[43mmerge_sort\u001b[49m\u001b[43m(\u001b[49m\u001b[43mdata\u001b[49m\u001b[43m,\u001b[49m\u001b[43m \u001b[49m\u001b[38;5;241;43m0\u001b[39;49m\u001b[43m,\u001b[49m\u001b[43m \u001b[49m\u001b[38;5;28;43mlen\u001b[39;49m\u001b[43m(\u001b[49m\u001b[43mdata\u001b[49m\u001b[43m)\u001b[49m\u001b[38;5;241;43m-\u001b[39;49m\u001b[38;5;241;43m1\u001b[39;49m\u001b[43m)\u001b[49m\n\u001b[0;32m     31\u001b[0m \u001b[38;5;28mprint\u001b[39m(\u001b[38;5;124m\"\u001b[39m\u001b[38;5;124mMergeSort : \u001b[39m\u001b[38;5;124m\"\u001b[39m, data)\n",
      "Cell \u001b[1;32mIn[6], line 4\u001b[0m, in \u001b[0;36mmerge_sort\u001b[1;34m(A, left, right)\u001b[0m\n\u001b[0;32m      2\u001b[0m \u001b[38;5;28;01mif\u001b[39;00m left\u001b[38;5;241m<\u001b[39mright:\n\u001b[0;32m      3\u001b[0m     mid \u001b[38;5;241m=\u001b[39m (left \u001b[38;5;241m+\u001b[39m right \u001b[38;5;241m/\u001b[39m\u001b[38;5;241m/\u001b[39m \u001b[38;5;241m2\u001b[39m)\n\u001b[1;32m----> 4\u001b[0m     \u001b[43mmerge_sort\u001b[49m\u001b[43m(\u001b[49m\u001b[43mA\u001b[49m\u001b[43m,\u001b[49m\u001b[43m \u001b[49m\u001b[43mleft\u001b[49m\u001b[43m,\u001b[49m\u001b[43m \u001b[49m\u001b[43mmid\u001b[49m\u001b[43m)\u001b[49m\n\u001b[0;32m      5\u001b[0m     merge_sort(A, mid \u001b[38;5;241m+\u001b[39m \u001b[38;5;241m1\u001b[39m, right)\n\u001b[0;32m      6\u001b[0m     merge(A, left, mid, right)\n",
      "Cell \u001b[1;32mIn[6], line 5\u001b[0m, in \u001b[0;36mmerge_sort\u001b[1;34m(A, left, right)\u001b[0m\n\u001b[0;32m      3\u001b[0m mid \u001b[38;5;241m=\u001b[39m (left \u001b[38;5;241m+\u001b[39m right \u001b[38;5;241m/\u001b[39m\u001b[38;5;241m/\u001b[39m \u001b[38;5;241m2\u001b[39m)\n\u001b[0;32m      4\u001b[0m merge_sort(A, left, mid)\n\u001b[1;32m----> 5\u001b[0m \u001b[43mmerge_sort\u001b[49m\u001b[43m(\u001b[49m\u001b[43mA\u001b[49m\u001b[43m,\u001b[49m\u001b[43m \u001b[49m\u001b[43mmid\u001b[49m\u001b[43m \u001b[49m\u001b[38;5;241;43m+\u001b[39;49m\u001b[43m \u001b[49m\u001b[38;5;241;43m1\u001b[39;49m\u001b[43m,\u001b[49m\u001b[43m \u001b[49m\u001b[43mright\u001b[49m\u001b[43m)\u001b[49m\n\u001b[0;32m      6\u001b[0m merge(A, left, mid, right)\n",
      "Cell \u001b[1;32mIn[6], line 4\u001b[0m, in \u001b[0;36mmerge_sort\u001b[1;34m(A, left, right)\u001b[0m\n\u001b[0;32m      2\u001b[0m \u001b[38;5;28;01mif\u001b[39;00m left\u001b[38;5;241m<\u001b[39mright:\n\u001b[0;32m      3\u001b[0m     mid \u001b[38;5;241m=\u001b[39m (left \u001b[38;5;241m+\u001b[39m right \u001b[38;5;241m/\u001b[39m\u001b[38;5;241m/\u001b[39m \u001b[38;5;241m2\u001b[39m)\n\u001b[1;32m----> 4\u001b[0m     \u001b[43mmerge_sort\u001b[49m\u001b[43m(\u001b[49m\u001b[43mA\u001b[49m\u001b[43m,\u001b[49m\u001b[43m \u001b[49m\u001b[43mleft\u001b[49m\u001b[43m,\u001b[49m\u001b[43m \u001b[49m\u001b[43mmid\u001b[49m\u001b[43m)\u001b[49m\n\u001b[0;32m      5\u001b[0m     merge_sort(A, mid \u001b[38;5;241m+\u001b[39m \u001b[38;5;241m1\u001b[39m, right)\n\u001b[0;32m      6\u001b[0m     merge(A, left, mid, right)\n",
      "Cell \u001b[1;32mIn[6], line 4\u001b[0m, in \u001b[0;36mmerge_sort\u001b[1;34m(A, left, right)\u001b[0m\n\u001b[0;32m      2\u001b[0m \u001b[38;5;28;01mif\u001b[39;00m left\u001b[38;5;241m<\u001b[39mright:\n\u001b[0;32m      3\u001b[0m     mid \u001b[38;5;241m=\u001b[39m (left \u001b[38;5;241m+\u001b[39m right \u001b[38;5;241m/\u001b[39m\u001b[38;5;241m/\u001b[39m \u001b[38;5;241m2\u001b[39m)\n\u001b[1;32m----> 4\u001b[0m     \u001b[43mmerge_sort\u001b[49m\u001b[43m(\u001b[49m\u001b[43mA\u001b[49m\u001b[43m,\u001b[49m\u001b[43m \u001b[49m\u001b[43mleft\u001b[49m\u001b[43m,\u001b[49m\u001b[43m \u001b[49m\u001b[43mmid\u001b[49m\u001b[43m)\u001b[49m\n\u001b[0;32m      5\u001b[0m     merge_sort(A, mid \u001b[38;5;241m+\u001b[39m \u001b[38;5;241m1\u001b[39m, right)\n\u001b[0;32m      6\u001b[0m     merge(A, left, mid, right)\n",
      "    \u001b[1;31m[... skipping similar frames: merge_sort at line 4 (2972 times)]\u001b[0m\n",
      "Cell \u001b[1;32mIn[6], line 4\u001b[0m, in \u001b[0;36mmerge_sort\u001b[1;34m(A, left, right)\u001b[0m\n\u001b[0;32m      2\u001b[0m \u001b[38;5;28;01mif\u001b[39;00m left\u001b[38;5;241m<\u001b[39mright:\n\u001b[0;32m      3\u001b[0m     mid \u001b[38;5;241m=\u001b[39m (left \u001b[38;5;241m+\u001b[39m right \u001b[38;5;241m/\u001b[39m\u001b[38;5;241m/\u001b[39m \u001b[38;5;241m2\u001b[39m)\n\u001b[1;32m----> 4\u001b[0m     \u001b[43mmerge_sort\u001b[49m\u001b[43m(\u001b[49m\u001b[43mA\u001b[49m\u001b[43m,\u001b[49m\u001b[43m \u001b[49m\u001b[43mleft\u001b[49m\u001b[43m,\u001b[49m\u001b[43m \u001b[49m\u001b[43mmid\u001b[49m\u001b[43m)\u001b[49m\n\u001b[0;32m      5\u001b[0m     merge_sort(A, mid \u001b[38;5;241m+\u001b[39m \u001b[38;5;241m1\u001b[39m, right)\n\u001b[0;32m      6\u001b[0m     merge(A, left, mid, right)\n",
      "\u001b[1;31mRecursionError\u001b[0m: maximum recursion depth exceeded"
     ]
    }
   ],
   "source": [
    "def merge_sort(A, left, right):\n",
    "    if left<right:\n",
    "        mid = (left + right // 2)\n",
    "        merge_sort(A, left, mid)\n",
    "        merge_sort(A, mid + 1, right)\n",
    "        merge(A, left, mid, right)\n",
    "\n",
    "def merge(A, left, mid, right):\n",
    "    k = left\n",
    "    i = left\n",
    "    j = mid + 1\n",
    "    while i<=mid and j<=right :\n",
    "        if A[i] <= A[j]:\n",
    "            sorted[k] = A[i]\n",
    "            i, k = i+1, k+1\n",
    "        else:\n",
    "            sorted[k] = A[j]\n",
    "            j, k = j+1, k+1\n",
    "\n",
    "    if i > mid:\n",
    "        sorted[k:k+right-j+1] = A[j:right+1]\n",
    "    else:\n",
    "        sorted[k:k+mid-i+1] = A[i:mid+1]\n",
    "\n",
    "    A[left:right+1] = sorted[left:right+1]\n",
    "    \n",
    "data = [ 5, 3, 8, 4, 9, 1, 6, 2, 7 ]\n",
    "sorted = [0] * len(data)\n",
    "print(\"Original :\", data)\n",
    "merge_sort(data, 0, len(data)-1)\n",
    "print(\"MergeSort : \", data)"
   ]
  },
  {
   "cell_type": "markdown",
   "metadata": {},
   "source": [
    "####   7) 수행 결과\n"
   ]
  },
  {
   "cell_type": "markdown",
   "metadata": {},
   "source": [
    "####  8) 복잡도 분석\n",
    "선택 정렬 시간 복잡도는 O(n2)이다 다른 정렬 알고리즘에 비해 효율적이지도 않고,안전성을 만족하지도 않지만, 알고리즘이 간단하고,입력 자료의 구성과 상관없이 자료 이동 횟수가 결정된다는 장접이 있다.또한 입력의 크기가 크지 않은 실제 문제에 충분히 사용할 수 있으며, 무엇보다 정렬의 정의를 가장 직접적으로 사용한 알고리즘이다. "
   ]
  }
 ],
 "metadata": {
  "kernelspec": {
   "display_name": "Python 3",
   "language": "python",
   "name": "python3"
  },
  "language_info": {
   "codemirror_mode": {
    "name": "ipython",
    "version": 3
   },
   "file_extension": ".py",
   "mimetype": "text/x-python",
   "name": "python",
   "nbconvert_exporter": "python",
   "pygments_lexer": "ipython3",
   "version": "3.12.2"
  }
 },
 "nbformat": 4,
 "nbformat_minor": 2
}
