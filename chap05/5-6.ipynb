{
 "cells": [
  {
   "cell_type": "code",
   "execution_count": 1,
   "metadata": {},
   "outputs": [
    {
     "name": "stdout",
     "output_type": "stream",
     "text": [
      "Original : [7, 4, 9, 6, 3, 8, 7, 5]\n",
      " Step  3 = [4, 7, 9, 6, 3, 8, 7, 5]\n",
      " Step  3 = [4, 7, 6, 9, 3, 8, 7, 5]\n",
      " Step  2 = [4, 6, 7, 9, 3, 8, 7, 5]\n",
      " Step  3 = [4, 6, 7, 9, 3, 8, 7, 5]\n",
      " Step  3 = [4, 6, 7, 9, 3, 8, 5, 7]\n",
      " Step  2 = [4, 6, 7, 9, 3, 5, 7, 8]\n",
      " Step  1 = [3, 4, 5, 6, 7, 7, 8, 9]\n",
      "MergeSort :  [3, 4, 5, 6, 7, 7, 8, 9]\n"
     ]
    }
   ],
   "source": [
    "def merge_sort(A, left, right, step):\n",
    "    if left < right:\n",
    "        mid = (left + right) // 2\n",
    "        merge_sort(A, left, mid, step + 1)\n",
    "        merge_sort(A, mid + 1, right, step + 1)\n",
    "        merge(A, left, mid, right)\n",
    "        printStep(A, step) \n",
    "\n",
    "def merge(A, left, mid, right):\n",
    "    k = left \n",
    "    i = left \n",
    "    j = mid + 1\n",
    "    while i <= mid and j <= right:\n",
    "        if A[i] <= A[j]:\n",
    "            sorted[k] = A[i]\n",
    "            i, k = i + 1, k + 1\n",
    "        else:\n",
    "            sorted[k] = A[j]\n",
    "            j, k = j + 1, k + 1\n",
    "\n",
    "    if i > mid:\n",
    "        sorted[k:k + right - j + 1] = A[j:right + 1]\n",
    "    else:\n",
    "        sorted[k:k + mid - i + 1] = A[i:mid + 1]\n",
    "\n",
    "    A[left:right + 1] = sorted[left:right + 1]\n",
    "\n",
    "def printStep(arr, val):\n",
    "    print(f\" Step {val:2d} = \", end='')\n",
    "    print(arr)\n",
    "\n",
    "data = [7, 4, 9, 6, 3, 8, 7, 5]\n",
    "sorted = [0] * len(data)\n",
    "print(\"Original :\", data)\n",
    "merge_sort(data, 0, len(data) - 1, 1)\n",
    "print(\"MergeSort : \", data)\n"
   ]
  }
 ],
 "metadata": {
  "kernelspec": {
   "display_name": "Python 3",
   "language": "python",
   "name": "python3"
  },
  "language_info": {
   "codemirror_mode": {
    "name": "ipython",
    "version": 3
   },
   "file_extension": ".py",
   "mimetype": "text/x-python",
   "name": "python",
   "nbconvert_exporter": "python",
   "pygments_lexer": "ipython3",
   "version": "3.11.9"
  }
 },
 "nbformat": 4,
 "nbformat_minor": 2
}
