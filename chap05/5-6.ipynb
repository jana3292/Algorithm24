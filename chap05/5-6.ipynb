{
 "cells": [
  {
   "cell_type": "code",
   "execution_count": null,
   "metadata": {},
   "outputs": [],
   "source": [
    "def merge(A, left, mid, right):\n",
    "    A : \n",
    "    left :\n",
    "    mid :\n",
    "    right :\n",
    "\n",
    "def merge_sort(A, left, right) :\n",
    "    if left<right :\n",
    "        mid = (left + right) // 2\n",
    "        merge_sort(A, left, mid)\n",
    "        merge_sort(A, mid + 1, right)\n",
    "        merge(A, left, mid, right)\n",
    "\n",
    "data = [ 7, 4, 9, 6, 3, 8, 7, 5]\n",
    "sorted = [0] * len(data)\n",
    "print(\"Original :\", data)\n",
    "merge_sort(data, 0, len(data)-1)\n",
    "print(\"MergeSort : \", data)"
   ]
  }
 ],
 "metadata": {
  "language_info": {
   "name": "python"
  }
 },
 "nbformat": 4,
 "nbformat_minor": 2
}
